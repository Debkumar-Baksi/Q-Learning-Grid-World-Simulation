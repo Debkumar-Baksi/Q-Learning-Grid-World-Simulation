{
 "cells": [
  {
   "cell_type": "code",
   "execution_count": 119,
   "id": "4499dbd6-fa0b-46fd-8570-841638f91725",
   "metadata": {},
   "outputs": [],
   "source": [
    "import numpy as np\n",
    "import random"
   ]
  },
  {
   "cell_type": "code",
   "execution_count": 121,
   "id": "f53449de-aa97-405c-bb5b-9fd66e0df3dc",
   "metadata": {},
   "outputs": [],
   "source": [
    "rows, cols = 5,5\n",
    "n_states = rows*cols\n",
    "actions = [0,1,2,3]\n",
    "Q = np.zeros((n_states, len(actions)))"
   ]
  },
  {
   "cell_type": "code",
   "execution_count": 165,
   "id": "87975a70-05ca-4481-ba0b-42931da30b1a",
   "metadata": {},
   "outputs": [],
   "source": [
    "obstacles = [(2,0),(2,1),(0,1),(2,2),(0,4),(1,4),(3,3),(4,3),(3,0),(4,0),(3,1),(4,1),(3,2),(4,2)]"
   ]
  },
  {
   "cell_type": "code",
   "execution_count": 167,
   "id": "b1886a54-fd6f-42de-9d68-b6ee2693674a",
   "metadata": {},
   "outputs": [],
   "source": [
    "goal = (4,4)\n",
    "def get_reward(coord):\n",
    "    if coord in obstacles:\n",
    "        return -1\n",
    "    return 1 if coord == goal else -0.1"
   ]
  },
  {
   "cell_type": "code",
   "execution_count": 169,
   "id": "c18cd6c2-70a0-4615-8643-d5f9cb3d00cf",
   "metadata": {},
   "outputs": [],
   "source": [
    "def to_state(x,y):\n",
    "    return y*cols +x"
   ]
  },
  {
   "cell_type": "code",
   "execution_count": 171,
   "id": "9669c903-25bb-4ed9-948b-b939d08c7d0f",
   "metadata": {},
   "outputs": [],
   "source": [
    "def to_coord(state):\n",
    "    return (state % cols, state//cols)"
   ]
  },
  {
   "cell_type": "code",
   "execution_count": 173,
   "id": "b7cc1197-1d52-44ab-bc5a-99620f7aca42",
   "metadata": {},
   "outputs": [],
   "source": [
    "def step(x,y,action):\n",
    "    new_x,new_y = x,y\n",
    "    if action == 0: new_y=max(0,y-1)\n",
    "    if action == 1: new_y=min(rows-1,y+1)\n",
    "    if action == 2: new_x=max(0,x-1)\n",
    "    if action == 3: new_x=min(cols-1,x+1)\n",
    "    if (new_x,new_y) in obstacles:\n",
    "        return x,y\n",
    "    return new_x,new_y"
   ]
  },
  {
   "cell_type": "code",
   "execution_count": 175,
   "id": "ed6abf0c-82fe-4a65-b5fe-6b1dc8c410ab",
   "metadata": {},
   "outputs": [],
   "source": [
    "alpha = 0.1\n",
    "gamma = 0.9\n",
    "epsilon = 0.3\n",
    "episodes = 100000"
   ]
  },
  {
   "cell_type": "code",
   "execution_count": 177,
   "id": "b8d2b174-e025-4e18-87cb-47794de7ba17",
   "metadata": {},
   "outputs": [],
   "source": [
    "for ep in range(episodes):\n",
    "    x,y=0,0\n",
    "    while (x,y)!=goal:\n",
    "        state = to_state(x,y)\n",
    "        if random.uniform(0,1) < epsilon:\n",
    "            action = random.choice(actions)\n",
    "        else:\n",
    "            action = np.argmax(Q[state])\n",
    "\n",
    "        new_x,new_y=step(x,y,action)\n",
    "        next_state = to_state(new_x,new_y)\n",
    "        reward = get_reward((new_x,new_y))\n",
    "\n",
    "        Q[state,action] += alpha * (reward + gamma * np.max(Q[next_state]) - Q[state,action])\n",
    "        x,y = new_x,new_y"
   ]
  },
  {
   "cell_type": "code",
   "execution_count": 181,
   "id": "ff14cb0e-eacc-40ea-8d11-f02caec4e51f",
   "metadata": {},
   "outputs": [
    {
     "name": "stdout",
     "output_type": "stream",
     "text": [
      "Best policy with Obstacles:\n",
      "→ ↓ X X X \n",
      "X ↓ X X X \n",
      "↓ ↓ X X X \n",
      "→ → ↓ X X \n",
      "X X → → G \n",
      "\n"
     ]
    }
   ],
   "source": [
    "action_symbols = ['↑', '↓', '←', '→']\n",
    "grid = \"\"\n",
    "for y in range(rows):\n",
    "    row=\"\"\n",
    "    for x in range(cols):\n",
    "        if (x,y) in obstacles:\n",
    "            row += \"X \"\n",
    "            continue\n",
    "        elif (x,y) == goal:\n",
    "            row += \"G \"\n",
    "            continue\n",
    "        state = to_state(x,y)\n",
    "        best_action = np.argmax(Q[state])\n",
    "        row += action_symbols[best_action] + \" \"\n",
    "    grid += row +\"\\n\"\n",
    "print(\"Best policy with Obstacles:\\n\" + grid)"
   ]
  },
  {
   "cell_type": "markdown",
   "id": "10c9455a-3868-4f3e-bce7-2f5e799781f0",
   "metadata": {},
   "source": [
    "# GIF"
   ]
  },
  {
   "cell_type": "code",
   "execution_count": 192,
   "id": "66859fac-c04a-490d-84db-784f22848b47",
   "metadata": {},
   "outputs": [
    {
     "data": {
      "text/plain": [
       "'q_learning_agent.gif'"
      ]
     },
     "execution_count": 192,
     "metadata": {},
     "output_type": "execute_result"
    },
    {
     "data": {
      "image/png": "[encoded data removed]",
      "text/plain": [
       "<Figure size 640x480 with 1 Axes>"
      ]
     },
     "metadata": {},
     "output_type": "display_data"
    }
   ],
   "source": [
    "# Re-import required packages after state reset\n",
    "import numpy as np\n",
    "import matplotlib.pyplot as plt\n",
    "import matplotlib.animation as animation\n",
    "import matplotlib.patches as patches\n",
    "import random\n",
    "\n",
    "# Grid world dimensions\n",
    "rows, cols = 5, 5\n",
    "n_states = rows * cols\n",
    "actions = [0, 1, 2, 3]  # up, down, left, right\n",
    "Q = np.zeros((n_states, len(actions)))\n",
    "\n",
    "# Goal and obstacles\n",
    "goal = (4, 4)\n",
    "obstacles = [(2,0),(2,1),(0,1),(2,2),(0,4),(1,4),(3,3),(4,3),(3,0),(4,0),(3,1),(4,1),(3,2),(4,2),(0,2),(0,3)]\n",
    "\n",
    "def to_state(x, y):\n",
    "    return y * cols + x\n",
    "\n",
    "def to_coord(state):\n",
    "    return (state % cols, state // cols)\n",
    "\n",
    "def step(x, y, action):\n",
    "    new_x, new_y = x, y\n",
    "    if action == 0: new_y = max(0, y - 1)\n",
    "    if action == 1: new_y = min(rows - 1, y + 1)\n",
    "    if action == 2: new_x = max(0, x - 1)\n",
    "    if action == 3: new_x = min(cols - 1, x + 1)\n",
    "    if (new_x, new_y) in obstacles:\n",
    "        return x, y\n",
    "    return new_x, new_y\n",
    "\n",
    "def get_reward(coord):\n",
    "    if coord in obstacles:\n",
    "        return -1\n",
    "    elif coord == goal:\n",
    "        return 1\n",
    "    else:\n",
    "        return -0.1\n",
    "\n",
    "# Q-learning parameters\n",
    "alpha = 0.1\n",
    "gamma = 0.9\n",
    "epsilon = 0.3\n",
    "episodes = 1000\n",
    "\n",
    "for ep in range(episodes):\n",
    "    x, y = 0, 0\n",
    "    steps = 0\n",
    "    max_steps = 100\n",
    "    while (x, y) != goal and steps < max_steps:\n",
    "        state = to_state(x, y)\n",
    "        if random.uniform(0, 1) < epsilon:\n",
    "            action = random.choice(actions)\n",
    "        else:\n",
    "            action = np.argmax(Q[state])\n",
    "        new_x, new_y = step(x, y, action)\n",
    "        next_state = to_state(new_x, new_y)\n",
    "        reward = get_reward((new_x, new_y))\n",
    "        Q[state, action] += alpha * (reward + gamma * np.max(Q[next_state]) - Q[state, action])\n",
    "        x, y = new_x, new_y\n",
    "        steps += 1\n",
    "\n",
    "# Extract best path\n",
    "def get_best_path():\n",
    "    x, y = 0, 0\n",
    "    path = [(x, y)]\n",
    "    visited = set(path)\n",
    "    while (x, y) != goal:\n",
    "        state = to_state(x, y)\n",
    "        action = np.argmax(Q[state])\n",
    "        new_x, new_y = step(x, y, action)\n",
    "        if (new_x, new_y) in visited:\n",
    "            break\n",
    "        path.append((new_x, new_y))\n",
    "        visited.add((new_x, new_y))\n",
    "        x, y = new_x, new_y\n",
    "    return path\n",
    "\n",
    "path = get_best_path()\n",
    "\n",
    "# Create animated GIF\n",
    "grid_display = np.ones((rows, cols, 3))  # white grid\n",
    "for y in range(rows):\n",
    "    for x in range(cols):\n",
    "        if (x, y) in obstacles:\n",
    "            grid_display[y, x] = [0.2, 0.2, 0.2]\n",
    "        elif (x, y) == goal:\n",
    "            grid_display[y, x] = [0.2, 0.8, 0.2]\n",
    "\n",
    "fig, ax = plt.subplots()\n",
    "ax.set_xticks([])\n",
    "ax.set_yticks([])\n",
    "ax.set_title(\"Q-Learning Agent Navigation (Animated GIF)\")\n",
    "agent_img = ax.imshow(grid_display, interpolation='nearest')\n",
    "agent_dot, = ax.plot([], [], 'ro', markersize=12)\n",
    "\n",
    "def init_gif():\n",
    "    agent_dot.set_data([], [])\n",
    "    return agent_img, agent_dot\n",
    "\n",
    "def update_gif(frame):\n",
    "    x, y = path[frame]\n",
    "    agent_dot.set_data([x], [y])  # ✅ fix here\n",
    "    return agent_img, agent_dot\n",
    "\n",
    "\n",
    "gif_anim = animation.FuncAnimation(\n",
    "    fig, update_gif, frames=len(path), init_func=init_gif,\n",
    "    interval=500, blit=True, repeat=False\n",
    ")\n",
    "\n",
    "# Save animation as GIF\n",
    "gif_path = \"q_learning_agent.gif\"\n",
    "gif_anim.save(gif_path, writer='pillow', fps=2)\n",
    "\n",
    "gif_path\n"
   ]
  },
  {
   "cell_type": "code",
   "execution_count": null,
   "id": "ddd9b1dc-5b12-44e3-b7fa-685106b6c035",
   "metadata": {},
   "outputs": [],
   "source": []
  }
 ],
 "metadata": {
  "kernelspec": {
   "display_name": "Python [conda env:base] *",
   "language": "python",
   "name": "conda-base-py"
  },
  "language_info": {
   "codemirror_mode": {
    "name": "ipython",
    "version": 3
   },
   "file_extension": ".py",
   "mimetype": "text/x-python",
   "name": "python",
   "nbconvert_exporter": "python",
   "pygments_lexer": "ipython3",
   "version": "3.12.7"
  }
 },
 "nbformat": 4,
 "nbformat_minor": 5
}
